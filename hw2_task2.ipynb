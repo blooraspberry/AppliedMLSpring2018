{
 "cells": [
  {
   "cell_type": "code",
   "execution_count": 33,
   "metadata": {
    "collapsed": true
   },
   "outputs": [],
   "source": [
    "from sklearn.datasets import fetch_covtype\n",
    "from sklearn.datasets import fetch_california_housing\n",
    "import numpy as np\n",
    "import pandas as pd\n",
    "from scipy import stats, integrate\n",
    "import matplotlib.pyplot as plt\n",
    "from sklearn.model_selection import train_test_split, GridSearchCV, cross_val_score, KFold\n",
    "from sklearn.preprocessing import StandardScaler\n",
    "from sklearn.neighbors import NearestCentroid\n",
    "from sklearn.linear_model import LogisticRegression\n",
    "from sklearn.svm import LinearSVC\n",
    "%matplotlib inline"
   ]
  },
  {
   "cell_type": "code",
   "execution_count": 5,
   "metadata": {
    "collapsed": true
   },
   "outputs": [],
   "source": [
    "#description: http://kdd.ics.uci.edu/databases/kddcup99/kddcup99.html\n",
    "fetch_data = fetch_covtype()"
   ]
  },
  {
   "cell_type": "code",
   "execution_count": 6,
   "metadata": {
    "collapsed": true
   },
   "outputs": [],
   "source": [
    "description, X, y = fetch_data['DESCR'], fetch_data['data'], fetch_data['target']"
   ]
  },
  {
   "cell_type": "code",
   "execution_count": 7,
   "metadata": {},
   "outputs": [
    {
     "data": {
      "text/plain": [
       "54"
      ]
     },
     "execution_count": 7,
     "metadata": {},
     "output_type": "execute_result"
    }
   ],
   "source": [
    "#setting counts\n",
    "feature_count = len(X[0])"
   ]
  },
  {
   "cell_type": "markdown",
   "metadata": {},
   "source": [
    "### Task 2.1"
   ]
  },
  {
   "cell_type": "code",
   "execution_count": 183,
   "metadata": {
    "scrolled": false
   },
   "outputs": [
    {
     "data": {
      "image/png": "[encoded data removed]",
      "text/plain": [
       "<matplotlib.figure.Figure at 0x1a4f2f1f10>"
      ]
     },
     "metadata": {},
     "output_type": "display_data"
    }
   ],
   "source": [
    "plt.figure(figsize=(20,10))\n",
    "plt.boxplot(X)\n",
    "plt.show()"
   ]
  },
  {
   "cell_type": "markdown",
   "metadata": {},
   "source": [
    "### Task 2.2"
   ]
  },
  {
   "cell_type": "code",
   "execution_count": 184,
   "metadata": {
    "collapsed": true
   },
   "outputs": [],
   "source": [
    "#Splitting Data\n",
    "\n",
    "X_train, X_test, y_train, y_test = train_test_split(X, y, random_state=0)"
   ]
  },
  {
   "cell_type": "code",
   "execution_count": 185,
   "metadata": {},
   "outputs": [
    {
     "name": "stdout",
     "output_type": "stream",
     "text": [
      "Logistic Regression - Cross Validation Score: \n",
      "[ 0.71096547  0.70889414  0.70992771]\n",
      "Average Logistic Regression - Cross Validation Scores: \n",
      "0.709929105048\n",
      "Linear SVM - Cross Validation Scores: \n",
      "[ 0.46291375  0.51559692  0.58767642]\n",
      "Average Linear SVM - Cross Validation Score: \n",
      "0.522062365408\n",
      "Nearest Centroid - Cross Validation Scores: \n",
      "[ 0.1940505   0.19360013  0.19310843]\n",
      "Average Nearest - Centroid Cross Validation Score: \n",
      "0.193586356619\n"
     ]
    }
   ],
   "source": [
    "#Logistic Regression, SVM, nearest centroid\n",
    "\n",
    "#Logistic Regression\n",
    "\n",
    "lr = LogisticRegression()\n",
    "lr.fit(X_train, y_train)\n",
    "log_score = cross_val_score(LogisticRegression(), X_train, y_train)\n",
    "print \"Logistic Regression - Cross Validation Scores: \"\n",
    "print log_score\n",
    "\n",
    "print \"Average Logistic Regression - Cross Validation Score: \"\n",
    "print np.mean(log_score)\n",
    "\n",
    "#SVM\n",
    "\n",
    "svm = LinearSVC()\n",
    "svm.fit(X_train, y_train)\n",
    "svm_score = cross_val_score(LinearSVC(), X_train, y_train)\n",
    "\n",
    "print \"Linear SVM - Cross Validation Scores: \"\n",
    "print svm_score \n",
    "\n",
    "print \"Average Linear SVM - Cross Validation Score: \"\n",
    "print np.mean(svm_score)\n",
    "\n",
    "\n",
    "\n",
    "#Nearest Centroid:\n",
    "\n",
    "nc = NearestCentroid()\n",
    "nc.fit(X_train, y_train)\n",
    "nc_score = cross_val_score(NearestCentroid(), X_train, y_train)\n",
    "\n",
    "#print(\"accuracy: {:.2f}\".format(nc.score(X_test, y_test)))\n",
    "print \"Nearest Centroid - Cross Validation Scores: \"\n",
    "print nc_score\n",
    "\n",
    "print \"Average Nearest - Centroid Cross Validation Score: \"\n",
    "print np.mean(nc_score) \n"
   ]
  },
  {
   "cell_type": "markdown",
   "metadata": {},
   "source": [
    "#### Add Standard Scaler on X_train"
   ]
  },
  {
   "cell_type": "code",
   "execution_count": 186,
   "metadata": {},
   "outputs": [
    {
     "name": "stdout",
     "output_type": "stream",
     "text": [
      "Logistic Regression - Cross Validation Scores: \n",
      "[ 0.71475877  0.71374774  0.71637177]\n",
      "Average Logistic Regression - Cross Validation Score: \n",
      "0.714959426745\n",
      "Linear SVM - Cross Validation Scores: \n",
      "[ 0.71201878  0.71014712  0.71412048]\n",
      "Average Linear SVM - Cross Validation Score: \n",
      "0.712095461723\n",
      "Nearest Centroid - Cross Validation Scores: \n",
      "[ 0.55077931  0.55088707  0.54791738]\n",
      "Average Nearest Centroid - Cross Validation Score: \n",
      "0.549861256828\n"
     ]
    }
   ],
   "source": [
    "#Add Scaling\n",
    "\n",
    "scaler = StandardScaler()\n",
    "scaler.fit(X_train)\n",
    "X_train_scaled = scaler.transform(X_train)\n",
    "\n",
    "# Logistic, SVM, and nearing centroid with scaled X\n",
    "\n",
    "lr = LogisticRegression()\n",
    "lr.fit(X_train_scaled, y_train)\n",
    "lr_scaled_score = cross_val_score(LogisticRegression(), X_train_scaled, y_train)\n",
    "\n",
    "print \"Logistic Regression - Cross Validation Scores: \"\n",
    "print lr_scaled_score\n",
    "print \"Average Logistic Regression - Cross Validation Score: \"\n",
    "print np.mean(lr_scaled_score)\n",
    "\n",
    "\n",
    "#SVM\n",
    "\n",
    "svm = LinearSVC()\n",
    "svm.fit(X_train_scaled, y_train)\n",
    "svm_scaled_score = cross_val_score(LinearSVC(), X_train_scaled, y_train)\n",
    "\n",
    "print \"Linear SVM - Cross Validation Scores: \"\n",
    "print svm_scaled_score\n",
    "print \"Average Linear SVM - Cross Validation Score: \"\n",
    "print np.mean(svm_scaled_score)\n",
    "\n",
    "\n",
    "#Nearest Centroid:\n",
    "\n",
    "nc = NearestCentroid()\n",
    "nc.fit(X_train_scaled, y_train)\n",
    "nc_scaled_score = cross_val_score(NearestCentroid(), X_train_scaled, y_train)\n",
    "#print(\"accuracy: {:.2f}\".format(nc.score(X_test, y_test)))\n",
    "\n",
    "print \"Nearest Centroid - Cross Validation Scores: \"\n",
    "print nc_scaled_score\n",
    "print \"Average Nearest Centroid - Cross Validation Score: \"\n",
    "print np.mean(nc_scaled_score)\n"
   ]
  },
  {
   "cell_type": "markdown",
   "metadata": {},
   "source": [
    "The result is similar for Logistic Regression, but significantly different for Linear SVM and Nearest Centroid. For Logistic Regression scaled and without scaling, the validation score is around 0.7. However, the validation score went up from around 0.5 to 0.7 for Linear SVM with scaling, and from 0.20 to 0.55 for Nearest Centroid with scaling. "
   ]
  },
  {
   "cell_type": "markdown",
   "metadata": {},
   "source": [
    "### Task 2.3\n",
    "Tune the parameters using GridSearchCV. \n",
    "Visualize result"
   ]
  },
  {
   "cell_type": "code",
   "execution_count": 215,
   "metadata": {},
   "outputs": [
    {
     "name": "stdout",
     "output_type": "stream",
     "text": [
      "Logistic Regression\n",
      "Best Parameter:\n",
      "{'C': 100.0}\n",
      "Best Score:\n",
      "0.715140708511\n"
     ]
    }
   ],
   "source": [
    "#Grid Search for Logistics\n",
    "\n",
    "param_grid = {'C':[0.01, 0.1, 1.0, 10.0, 100.0, 1000.0]}\n",
    "grid = GridSearchCV(LogisticRegression(), param_grid)\n",
    "grid.fit(X_train_scaled, y_train)\n",
    "\n",
    "print 'Logistic Regression'\n",
    "print 'Best Parameter:'\n",
    "print(grid.best_params_)\n",
    "print 'Best Score:'\n",
    "print(grid.best_score_)"
   ]
  },
  {
   "cell_type": "code",
   "execution_count": 216,
   "metadata": {},
   "outputs": [
    {
     "data": {
      "image/png": "[encoded data removed]",
      "text/plain": [
       "<matplotlib.figure.Figure at 0x1a56670610>"
      ]
     },
     "metadata": {},
     "output_type": "display_data"
    }
   ],
   "source": [
    "plt.plot([0.01, 0.1, 1.0, 10.0, 100.0, 1000.0], grid.cv_results_['mean_test_score'], label = \"Mean Test Score\")\n",
    "plt.plot([0.01, 0.1, 1.0, 10.0, 100.0, 1000.0], grid.cv_results_['mean_train_score'], label = 'Mean Train Score')\n",
    "plt.ylabel('Score')\n",
    "plt.xlabel('C (log)')\n",
    "plt.title('Logistic Regression with Scaled Input')\n",
    "plt.legend()\n",
    "plt.xscale('log')"
   ]
  },
  {
   "cell_type": "code",
   "execution_count": 195,
   "metadata": {},
   "outputs": [
    {
     "name": "stdout",
     "output_type": "stream",
     "text": [
      "Linear SVM\n",
      "Best Parameter:\n",
      "{'C': 1.0}\n",
      "Best Score\n",
      "0.712724235185\n"
     ]
    }
   ],
   "source": [
    "#Grid Search for SVM\n",
    "\n",
    "param_grid = {'C': [0.01, 0.1, 1.0, 10.0, 100.0, 1000.0]}\n",
    "grid = GridSearchCV(LinearSVC(dual = False), param_grid)\n",
    "grid.fit(X_train_scaled, y_train)\n",
    "\n",
    "print 'Linear SVM'\n",
    "print 'Best Parameter:'\n",
    "print(grid.best_params_)\n",
    "print 'Best Score'\n",
    "print(grid.best_score_)"
   ]
  },
  {
   "cell_type": "code",
   "execution_count": 191,
   "metadata": {},
   "outputs": [
    {
     "data": {
      "image/png": "[encoded data removed]",
      "text/plain": [
       "<matplotlib.figure.Figure at 0x1a573c02d0>"
      ]
     },
     "metadata": {},
     "output_type": "display_data"
    }
   ],
   "source": [
    "plt.plot([0.01, 0.1, 1.0, 10.0, 100.0, 1000.0], grid.cv_results_['mean_test_score'], label = \"Mean Test Score\")\n",
    "plt.plot([0.01, 0.1, 1.0, 10.0, 100.0, 1000.0], grid.cv_results_['mean_train_score'], label = 'Mean Train Score')\n",
    "plt.ylabel('Score')\n",
    "plt.xlabel('C (log)')\n",
    "plt.title('LinearSVM with Scaled Input')\n",
    "plt.legend()\n",
    "plt.xscale('log')"
   ]
  },
  {
   "cell_type": "code",
   "execution_count": 220,
   "metadata": {},
   "outputs": [
    {
     "name": "stdout",
     "output_type": "stream",
     "text": [
      "Nearest Centroid\n",
      "Best Parameter:\n",
      "{'shrink_threshold': 40.0}\n",
      "Best Score\n",
      "0.652195364869\n"
     ]
    }
   ],
   "source": [
    "#Grid Search for Nearest Centroid\n",
    "\n",
    "param_grid = {'shrink_threshold': np.linspace(0, 200, 41)}\n",
    "grid = GridSearchCV(NearestCentroid(), param_grid)\n",
    "grid.fit(X_train_scaled, y_train)\n",
    "\n",
    "\n",
    "print 'Nearest Centroid'\n",
    "print 'Best Parameter:'\n",
    "print(grid.best_params_)\n",
    "print 'Best Score'\n",
    "print(grid.best_score_)"
   ]
  },
  {
   "cell_type": "code",
   "execution_count": 221,
   "metadata": {},
   "outputs": [
    {
     "data": {
      "text/plain": [
       "<matplotlib.legend.Legend at 0x1a55303f50>"
      ]
     },
     "execution_count": 221,
     "metadata": {},
     "output_type": "execute_result"
    },
    {
     "data": {
      "image/png": "[encoded data removed]",
      "text/plain": [
       "<matplotlib.figure.Figure at 0x1a4bc8af50>"
      ]
     },
     "metadata": {},
     "output_type": "display_data"
    }
   ],
   "source": [
    "plt.plot(np.linspace(0, 200, 41), grid.cv_results_['mean_test_score'], label = 'Mean Test Score')\n",
    "plt.plot(np.linspace(0, 200, 41), grid.cv_results_['mean_train_score'], label = 'Mean Train Score')\n",
    "plt.ylabel('Score')\n",
    "plt.xlabel('Shrinkage Threshold')\n",
    "plt.title('Nearest Centroid with Scaled Input')\n",
    "plt.legend()"
   ]
  },
  {
   "cell_type": "markdown",
   "metadata": {},
   "source": [
    "With GridSearch, the results improve marginally for Linear SVM and Logistic Regression, but not enough to say whether the improvements are statistically significant. With the nearest centroid, the score went up from 0.55 to 0.65 when using a shrinkage threshold at 39."
   ]
  },
  {
   "cell_type": "markdown",
   "metadata": {
    "collapsed": true
   },
   "source": [
    "### Task 2.4\n",
    "#### CV Kfold with Shuffling"
   ]
  },
  {
   "cell_type": "code",
   "execution_count": 194,
   "metadata": {},
   "outputs": [
    {
     "name": "stdout",
     "output_type": "stream",
     "text": [
      "KFold with Shuffling\n",
      "Logistic Regression: \n",
      "Average Validation Scores\n",
      "0.715009902262\n",
      "Cross Validation Scores: \n",
      "[ 0.71578556  0.71285963  0.71638452]\n",
      "Linear SVM:\n",
      "Average Validation Scores\n",
      "0.712157408109\n",
      "Cross Validation Scores:\n",
      "[ 0.7136307   0.70914886  0.71369266]\n",
      "Nearest Centroid:\n",
      "Average Validation Scores\n",
      "0.549783251752\n",
      "Cross Validation Scores:\n",
      "[ 0.55108672  0.55045335  0.54780968]\n"
     ]
    }
   ],
   "source": [
    "#stratified k-fold’ to ‘kfold’ with shufflings, with cv\n",
    "\n",
    "kfold = KFold(shuffle = True, random_state = None)\n",
    "\n",
    "#Without scaling\n",
    "\n",
    "print 'KFold with Shuffling'\n",
    "\n",
    "#Logistic Regression\n",
    "\n",
    "lr = LogisticRegression()\n",
    "lr.fit(X_train, y_train)\n",
    "\n",
    "lr_kfold = cross_val_score(LogisticRegression(), X_train_scaled, y_train, cv=kfold)\n",
    "print 'Logistic Regression: '\n",
    "print \"Average Validation Scores\"\n",
    "print np.mean(lr_kfold)\n",
    "print 'Cross Validation Scores: '\n",
    "print lr_kfold\n",
    "\n",
    "\n",
    "#SVM\n",
    "\n",
    "svm = LinearSVC()\n",
    "svm.fit(X_train, y_train)\n",
    "\n",
    "svm_kfold = cross_val_score(LinearSVC(), X_train_scaled, y_train, cv=kfold)\n",
    "print 'Linear SVM:'\n",
    "print \"Average Validation Scores\"\n",
    "print np.mean(svm_kfold)\n",
    "print 'Cross Validation Scores:'\n",
    "print svm_kfold\n",
    "\n",
    "\n",
    "#Nearest Centroid:\n",
    "\n",
    "nc = NearestCentroid()\n",
    "nc.fit(X_train, y_train)\n",
    "\n",
    "nc_kfold = cross_val_score(NearestCentroid(), X_train_scaled, y_train, cv=kfold)\n",
    "#print(\"accuracy: {:.2f}\".format(nc.score(X_train_scaled, y_train)))\n",
    "print 'Nearest Centroid:'\n",
    "print \"Average Validation Scores\"\n",
    "print np.mean(nc_kfold)\n",
    "print 'Cross Validation Scores:'\n",
    "print nc_kfold"
   ]
  },
  {
   "cell_type": "markdown",
   "metadata": {},
   "source": [
    "#### GridSearch with KFold + Shuffling"
   ]
  },
  {
   "cell_type": "code",
   "execution_count": 196,
   "metadata": {},
   "outputs": [
    {
     "name": "stdout",
     "output_type": "stream",
     "text": [
      "Logistic Regression: \n",
      "Average Validation Scores\n",
      "{'C': 1000.0}\n",
      "Cross Validation Scores:\n",
      "0.714996133184\n"
     ]
    }
   ],
   "source": [
    "#Grid Search for Logistics and KFold\n",
    "\n",
    "param_grid = {'C':[0.01, 0.1, 1.0, 10.0, 100.0, 1000.0]}\n",
    "grid = GridSearchCV(LogisticRegression(), param_grid, cv=kfold)\n",
    "grid.fit(X_train_scaled, y_train)\n",
    "\n",
    "print 'Logistic Regression: '\n",
    "print \"Best Parameter\"\n",
    "print(grid.best_params_)\n",
    "print 'Best Score:'\n",
    "print(grid.best_score_)"
   ]
  },
  {
   "cell_type": "code",
   "execution_count": 197,
   "metadata": {},
   "outputs": [
    {
     "name": "stdout",
     "output_type": "stream",
     "text": [
      "Linear SVM: \n",
      "Average Validation Scores\n",
      "{'C': 1000.0}\n",
      "Cross Validation Scores:\n",
      "0.712586544397\n"
     ]
    }
   ],
   "source": [
    "#Grid Search for LinearSV\n",
    "\n",
    "param_grid = {'C': [0.01, 0.1, 1.0, 10.0, 100.0, 1000.0]}\n",
    "grid = GridSearchCV(LinearSVC(dual = False), param_grid, cv=kfold)\n",
    "grid.fit(X_train_scaled, y_train)\n",
    "\n",
    "print 'Linear SVM: '\n",
    "print \"Best Parameter\"\n",
    "print(grid.best_params_)\n",
    "print 'Best Score:'\n",
    "print(grid.best_score_)"
   ]
  },
  {
   "cell_type": "code",
   "execution_count": 222,
   "metadata": {},
   "outputs": [
    {
     "name": "stdout",
     "output_type": "stream",
     "text": [
      "Nearest Centroid: \n",
      "Best Parameter\n",
      "{'shrink_threshold': 40.0}\n",
      "Best Score:\n",
      "0.652367478354\n"
     ]
    }
   ],
   "source": [
    "#Grid Search for Nearest Centroid\n",
    "\n",
    "param_grid = {'shrink_threshold': np.linspace(0, 200, 41)}\n",
    "grid = GridSearchCV(NearestCentroid(), param_grid, cv=kfold)\n",
    "grid.fit(X_train_scaled, y_train)\n",
    "\n",
    "print 'Nearest Centroid: '\n",
    "print \"Best Parameter\"\n",
    "print(grid.best_params_)\n",
    "print 'Best Score:'\n",
    "print(grid.best_score_)"
   ]
  },
  {
   "cell_type": "markdown",
   "metadata": {},
   "source": [
    "#### Grid Search and Change Random Seed of Shuffling"
   ]
  },
  {
   "cell_type": "code",
   "execution_count": 199,
   "metadata": {
    "collapsed": true
   },
   "outputs": [],
   "source": [
    "#change random seed of shuffling\n",
    "\n",
    "kfold = KFold(shuffle = True, random_state = 10)"
   ]
  },
  {
   "cell_type": "code",
   "execution_count": 200,
   "metadata": {},
   "outputs": [
    {
     "name": "stdout",
     "output_type": "stream",
     "text": [
      "Logistic Regression: \n",
      "Average Validation Scores\n",
      "{'C': 1000.0}\n",
      "Cross Validation Scores:\n",
      "0.714986953798\n"
     ]
    }
   ],
   "source": [
    "param_grid = {'C':[0.01, 0.1, 1.0, 10.0, 100.0, 1000.0]}\n",
    "grid = GridSearchCV(LogisticRegression(), param_grid, cv=kfold)\n",
    "grid.fit(X_train_scaled, y_train)\n",
    "\n",
    "print 'Logistic Regression: '\n",
    "print \"Best Parameter\"\n",
    "print(grid.best_params_)\n",
    "print 'Best Score:'\n",
    "print(grid.best_score_)"
   ]
  },
  {
   "cell_type": "code",
   "execution_count": 201,
   "metadata": {},
   "outputs": [
    {
     "name": "stdout",
     "output_type": "stream",
     "text": [
      "Linear SVM: \n",
      "Average Validation Scores\n",
      "{'C': 10.0}\n",
      "Cross Validation Scores:\n",
      "0.712526878389\n"
     ]
    }
   ],
   "source": [
    "#Grid Search for LinearSV\n",
    "\n",
    "param_grid = {'C': [0.01, 0.1, 1.0, 10.0, 100.0, 1000.0]}\n",
    "grid = GridSearchCV(LinearSVC(dual = False), param_grid, cv=kfold)\n",
    "grid.fit(X_train_scaled, y_train)\n",
    "\n",
    "print 'Linear SVM: '\n",
    "print \"Best Parameter\"\n",
    "print(grid.best_params_)\n",
    "print 'Best Score:'\n",
    "print(grid.best_score_)"
   ]
  },
  {
   "cell_type": "code",
   "execution_count": 223,
   "metadata": {},
   "outputs": [
    {
     "name": "stdout",
     "output_type": "stream",
     "text": [
      "Nearest Centroid: \n",
      "Best Parameter\n",
      "{'shrink_threshold': 40.0}\n",
      "Best Score:\n",
      "0.652271094802\n"
     ]
    }
   ],
   "source": [
    "#Grid Search for Nearest Centroid\n",
    "\n",
    "param_grid = {'shrink_threshold': np.linspace(0, 200, 41)}\n",
    "grid = GridSearchCV(NearestCentroid(), param_grid, cv=kfold)\n",
    "grid.fit(X_train_scaled, y_train)\n",
    "\n",
    "print 'Nearest Centroid: '\n",
    "print \"Best Parameter\"\n",
    "print(grid.best_params_)\n",
    "print 'Best Score:'\n",
    "print(grid.best_score_)"
   ]
  },
  {
   "cell_type": "markdown",
   "metadata": {},
   "source": [
    "#### Grid Search + Changing Split of Data"
   ]
  },
  {
   "cell_type": "code",
   "execution_count": 203,
   "metadata": {
    "collapsed": true
   },
   "outputs": [],
   "source": [
    "#Changing the split of data\n",
    "\n",
    "X_train, X_test, y_train, y_test = train_test_split(X, y, random_state = 10)\n",
    "kfold = KFold(shuffle = True, random_state = None)\n",
    "\n",
    "#Add Scaling\n",
    "\n",
    "scaler = StandardScaler()\n",
    "scaler.fit(X_train)\n",
    "X_train_scaled = scaler.transform(X_train)"
   ]
  },
  {
   "cell_type": "code",
   "execution_count": 204,
   "metadata": {},
   "outputs": [
    {
     "name": "stdout",
     "output_type": "stream",
     "text": [
      "Logistic Regression: \n",
      "Average Validation Scores\n",
      "{'C': 1000.0}\n",
      "Cross Validation Scores:\n",
      "0.715230207523\n"
     ]
    }
   ],
   "source": [
    "param_grid = {'C':[0.01, 0.1, 1.0, 10.0, 100.0, 1000.0]}\n",
    "grid = GridSearchCV(LogisticRegression(), param_grid, cv=kfold)\n",
    "grid.fit(X_train_scaled, y_train)\n",
    "\n",
    "print 'Logistic Regression: '\n",
    "print \"Best Parameter:\"\n",
    "print(grid.best_params_)\n",
    "print 'Best Score:'\n",
    "print(grid.best_score_)"
   ]
  },
  {
   "cell_type": "code",
   "execution_count": 205,
   "metadata": {},
   "outputs": [
    {
     "name": "stdout",
     "output_type": "stream",
     "text": [
      "Linear SVM: \n",
      "Average Validation Scores\n",
      "{'C': 100.0}\n",
      "Cross Validation Scores:\n",
      "0.712577365011\n"
     ]
    }
   ],
   "source": [
    "#Grid Search for LinearSV\n",
    "\n",
    "param_grid = {'C': [0.01, 0.1, 1.0, 10.0, 100.0, 1000.0]}\n",
    "grid = GridSearchCV(LinearSVC(dual = False), param_grid, cv=kfold)\n",
    "grid.fit(X_train_scaled, y_train)\n",
    "\n",
    "print 'Linear SVM: '\n",
    "print \"Best Parameter:\"\n",
    "print(grid.best_params_)\n",
    "print 'Best Score:'\n",
    "print(grid.best_score_)"
   ]
  },
  {
   "cell_type": "code",
   "execution_count": 224,
   "metadata": {},
   "outputs": [
    {
     "name": "stdout",
     "output_type": "stream",
     "text": [
      "Nearest Centroid: \n",
      "Best Parameter\n",
      "{'shrink_threshold': 40.0}\n",
      "Best Score:\n",
      "0.652209133948\n"
     ]
    }
   ],
   "source": [
    "#Grid Search for Nearest Centroid\n",
    "\n",
    "param_grid = {'shrink_threshold': np.linspace(0, 200, 41)}\n",
    "grid = GridSearchCV(NearestCentroid(), param_grid, cv=kfold)\n",
    "grid.fit(X_train_scaled, y_train)\n",
    "\n",
    "print 'Nearest Centroid: '\n",
    "print \"Best Parameter\"\n",
    "print(grid.best_params_)\n",
    "print 'Best Score:'\n",
    "print(grid.best_score_)"
   ]
  },
  {
   "attachments": {},
   "cell_type": "markdown",
   "metadata": {},
   "source": [
    "From changing from stratified k-fold to k-fold and shuffling:\n",
    "-\tLogistic Regression:  the parameter changed to (C=1000), and the score had gone down marginally. This change is not significant.\n",
    "-\t Linear SVM: the score actually went down 0.002 points, and the best C parameter is now at 1000. \n",
    "-\tNearest Centroid: The best shrink threshold is still at 40, with the best score at around 0.652. It doesn't change much. \n",
    "\n",
    "From changing the random seed state from 0 to 10:\n",
    "-\t Logistic Regression: The parameter stayed at (C=1000), and the score had gone down marginally. This change is not significant. \n",
    "-\tLinear SVM: the score went down 0.00005 points and the best parameter changed from 1000 to 10. However, this changed due to the effect of randomness, and that the score output from C = 10 to 1000 did not affect the data as much. \n",
    "-\tNearest Centroid: The best shrink threshold is still at 40, with the best score at around 0.652. It doesn't change much. \n",
    "\n",
    "Finally, from changing the split of the data, I have turned off the kfold random seed, and changed on train_test_split random state to 10. \n",
    "-\tLogistic Regression: C stayed at 1000, and the score barely changed. This change is not significant.  \n",
    "-\tLinear SVM: C has changed to 100, but score barely changed. \n",
    "-\tNearest Centroid: The best shrink threshold is still at 40, with the best score at around 0.652. It doesn't change much. "
   ]
  },
  {
   "cell_type": "markdown",
   "metadata": {},
   "source": [
    "### Task 2.5"
   ]
  },
  {
   "cell_type": "code",
   "execution_count": 207,
   "metadata": {},
   "outputs": [],
   "source": [
    "logreg = LogisticRegression(multi_class = \"multinomial\", solver = 'lbfgs').fit(X_train_scaled, y_train)\n",
    "#logreg.coef_"
   ]
  },
  {
   "cell_type": "code",
   "execution_count": 212,
   "metadata": {},
   "outputs": [
    {
     "data": {
      "image/png": "[encoded data removed]",
      "text/plain": [
       "<matplotlib.figure.Figure at 0x1a5374c590>"
      ]
     },
     "metadata": {},
     "output_type": "display_data"
    }
   ],
   "source": [
    "fig, axes = plt.subplots(1, 7, figsize=(10, 8))\n",
    "for ax, coef in zip(axes, logreg.coef_):\n",
    "    ax.barh(range(54), coef, height=.5, color=plt.cm.bwr_r(np.sign(coef)))\n",
    "    ax.set_xlim(logreg.coef_.min() - .1, logreg.coef_.max() + .1)\n",
    "\n",
    "#    ax.set_frame_on(False)\n",
    "    ax.set_yticks(())\n",
    "    \n",
    "axes[0].set_yticks(range(54))\n",
    "plt.tight_layout()\n",
    "fig.text(0.5, 0.98, 'Logistic Regression Coefficient', ha ='center')\n",
    "plt.show()"
   ]
  },
  {
   "cell_type": "code",
   "execution_count": 209,
   "metadata": {},
   "outputs": [],
   "source": [
    "lsvm = LinearSVC().fit(X_train_scaled, y_train)\n",
    "#lsvm.coef_"
   ]
  },
  {
   "cell_type": "code",
   "execution_count": 211,
   "metadata": {},
   "outputs": [
    {
     "data": {
      "image/png": "[encoded data removed]",
      "text/plain": [
       "<matplotlib.figure.Figure at 0x1a5662a310>"
      ]
     },
     "metadata": {},
     "output_type": "display_data"
    }
   ],
   "source": [
    "fig, axes = plt.subplots(1, 7, figsize=(10, 8))\n",
    "for ax, coef in zip(axes, lsvm.coef_):\n",
    "    ax.barh(range(54), coef, height=.5, color=plt.cm.bwr_r(np.sign(coef)))\n",
    "    ax.set_xlim(lsvm.coef_.min() - .1, lsvm.coef_.max() + .1)\n",
    "\n",
    "    #ax.set_frame_on(False)\n",
    "    ax.set_yticks(())\n",
    "    \n",
    "axes[0].set_yticks(range(54))\n",
    "plt.tight_layout()\n",
    "fig.text(0.5, 0.98, 'Linear SVM Coefficient', ha ='center')\n",
    "plt.show()"
   ]
  },
  {
   "cell_type": "code",
   "execution_count": null,
   "metadata": {
    "collapsed": true
   },
   "outputs": [],
   "source": []
  }
 ],
 "metadata": {
  "kernelspec": {
   "display_name": "Python 2",
   "language": "python",
   "name": "python2"
  },
  "language_info": {
   "codemirror_mode": {
    "name": "ipython",
    "version": 2
   },
   "file_extension": ".py",
   "mimetype": "text/x-python",
   "name": "python",
   "nbconvert_exporter": "python",
   "pygments_lexer": "ipython2",
   "version": "2.7.14"
  }
 },
 "nbformat": 4,
 "nbformat_minor": 2
}
